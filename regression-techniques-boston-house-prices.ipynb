{
 "cells": [
  {
   "cell_type": "code",
   "execution_count": 1,
   "id": "6042e7cd",
   "metadata": {
    "_cell_guid": "b1076dfc-b9ad-4769-8c92-a6c4dae69d19",
    "_uuid": "8f2839f25d086af736a60e9eeb907d3b93b6e0e5",
    "execution": {
     "iopub.execute_input": "2022-09-29T17:32:37.402632Z",
     "iopub.status.busy": "2022-09-29T17:32:37.401821Z",
     "iopub.status.idle": "2022-09-29T17:32:37.419555Z",
     "shell.execute_reply": "2022-09-29T17:32:37.418779Z"
    },
    "papermill": {
     "duration": 0.031255,
     "end_time": "2022-09-29T17:32:37.422095",
     "exception": false,
     "start_time": "2022-09-29T17:32:37.390840",
     "status": "completed"
    },
    "tags": []
   },
   "outputs": [
    {
     "name": "stdout",
     "output_type": "stream",
     "text": [
      "/kaggle/input/the-boston-houseprice-data/boston.csv\n"
     ]
    }
   ],
   "source": [
    "# This Python 3 environment comes with many helpful analytics libraries installed\n",
    "# It is defined by the kaggle/python Docker image: https://github.com/kaggle/docker-python\n",
    "# For example, here's several helpful packages to load\n",
    "\n",
    "import numpy as np # linear algebra\n",
    "import pandas as pd # data processing, CSV file I/O (e.g. pd.read_csv)\n",
    "\n",
    "# Input data files are available in the read-only \"../input/\" directory\n",
    "# For example, running this (by clicking run or pressing Shift+Enter) will list all files under the input directory\n",
    "\n",
    "import os\n",
    "for dirname, _, filenames in os.walk('/kaggle/input'):\n",
    "    for filename in filenames:\n",
    "        print(os.path.join(dirname, filename))\n",
    "\n",
    "# You can write up to 20GB to the current directory (/kaggle/working/) that gets preserved as output when you create a version using \"Save & Run All\" \n",
    "# You can also write temporary files to /kaggle/temp/, but they won't be saved outside of the current session"
   ]
  },
  {
   "cell_type": "markdown",
   "id": "b43407ae",
   "metadata": {
    "papermill": {
     "duration": 0.007046,
     "end_time": "2022-09-29T17:32:37.436761",
     "exception": false,
     "start_time": "2022-09-29T17:32:37.429715",
     "status": "completed"
    },
    "tags": []
   },
   "source": [
    "- CRIM - per capita crime rate by town\n",
    "- ZN - proportion of residential land zoned for lots over 25,000 sq.ft.\n",
    "- INDUS - proportion of non-retail business acres per town.\n",
    "- CHAS - Charles River dummy variable (1 if tract bounds river; 0 otherwise)\n",
    "- NOX - nitric oxides concentration (parts per 10 million)\n",
    "- RM - average number of rooms per dwelling\n",
    "- AGE - proportion of owner-occupied units built prior to 1940\n",
    "- DIS - weighted distances to five Boston employment centres\n",
    "- RAD - index of accessibility to radial highways\n",
    "- TAX - full-value property-tax rate per $10,000\n",
    "- PTRATIO - pupil-teacher ratio by town\n",
    "\n",
    "- B - 1000(Bk - 0.63)^2 where Bk is the proportion of blacks by town\n",
    "\n",
    "- LSTAT - \\% lower status of the population\n",
    "\n",
    "- MEDV - Median value of owner-occupied homes in $1000's"
   ]
  },
  {
   "cell_type": "code",
   "execution_count": 2,
   "id": "7551cb8e",
   "metadata": {
    "execution": {
     "iopub.execute_input": "2022-09-29T17:32:37.452694Z",
     "iopub.status.busy": "2022-09-29T17:32:37.452066Z",
     "iopub.status.idle": "2022-09-29T17:32:37.479223Z",
     "shell.execute_reply": "2022-09-29T17:32:37.478353Z"
    },
    "papermill": {
     "duration": 0.037733,
     "end_time": "2022-09-29T17:32:37.481567",
     "exception": false,
     "start_time": "2022-09-29T17:32:37.443834",
     "status": "completed"
    },
    "tags": []
   },
   "outputs": [],
   "source": [
    "X_full = pd.read_csv(\"../input/the-boston-houseprice-data/boston.csv\")"
   ]
  },
  {
   "cell_type": "code",
   "execution_count": 3,
   "id": "105dc604",
   "metadata": {
    "execution": {
     "iopub.execute_input": "2022-09-29T17:32:37.497990Z",
     "iopub.status.busy": "2022-09-29T17:32:37.497591Z",
     "iopub.status.idle": "2022-09-29T17:32:37.531996Z",
     "shell.execute_reply": "2022-09-29T17:32:37.530935Z"
    },
    "papermill": {
     "duration": 0.045263,
     "end_time": "2022-09-29T17:32:37.534364",
     "exception": false,
     "start_time": "2022-09-29T17:32:37.489101",
     "status": "completed"
    },
    "tags": []
   },
   "outputs": [
    {
     "data": {
      "text/html": [
       "<div>\n",
       "<style scoped>\n",
       "    .dataframe tbody tr th:only-of-type {\n",
       "        vertical-align: middle;\n",
       "    }\n",
       "\n",
       "    .dataframe tbody tr th {\n",
       "        vertical-align: top;\n",
       "    }\n",
       "\n",
       "    .dataframe thead th {\n",
       "        text-align: right;\n",
       "    }\n",
       "</style>\n",
       "<table border=\"1\" class=\"dataframe\">\n",
       "  <thead>\n",
       "    <tr style=\"text-align: right;\">\n",
       "      <th></th>\n",
       "      <th>CRIM</th>\n",
       "      <th>ZN</th>\n",
       "      <th>INDUS</th>\n",
       "      <th>CHAS</th>\n",
       "      <th>NOX</th>\n",
       "      <th>RM</th>\n",
       "      <th>AGE</th>\n",
       "      <th>DIS</th>\n",
       "      <th>RAD</th>\n",
       "      <th>TAX</th>\n",
       "      <th>PTRATIO</th>\n",
       "      <th>B</th>\n",
       "      <th>LSTAT</th>\n",
       "      <th>MEDV</th>\n",
       "    </tr>\n",
       "  </thead>\n",
       "  <tbody>\n",
       "    <tr>\n",
       "      <th>0</th>\n",
       "      <td>0.00632</td>\n",
       "      <td>18.0</td>\n",
       "      <td>2.31</td>\n",
       "      <td>0</td>\n",
       "      <td>0.538</td>\n",
       "      <td>6.575</td>\n",
       "      <td>65.2</td>\n",
       "      <td>4.0900</td>\n",
       "      <td>1</td>\n",
       "      <td>296.0</td>\n",
       "      <td>15.3</td>\n",
       "      <td>396.90</td>\n",
       "      <td>4.98</td>\n",
       "      <td>24.0</td>\n",
       "    </tr>\n",
       "    <tr>\n",
       "      <th>1</th>\n",
       "      <td>0.02731</td>\n",
       "      <td>0.0</td>\n",
       "      <td>7.07</td>\n",
       "      <td>0</td>\n",
       "      <td>0.469</td>\n",
       "      <td>6.421</td>\n",
       "      <td>78.9</td>\n",
       "      <td>4.9671</td>\n",
       "      <td>2</td>\n",
       "      <td>242.0</td>\n",
       "      <td>17.8</td>\n",
       "      <td>396.90</td>\n",
       "      <td>9.14</td>\n",
       "      <td>21.6</td>\n",
       "    </tr>\n",
       "    <tr>\n",
       "      <th>2</th>\n",
       "      <td>0.02729</td>\n",
       "      <td>0.0</td>\n",
       "      <td>7.07</td>\n",
       "      <td>0</td>\n",
       "      <td>0.469</td>\n",
       "      <td>7.185</td>\n",
       "      <td>61.1</td>\n",
       "      <td>4.9671</td>\n",
       "      <td>2</td>\n",
       "      <td>242.0</td>\n",
       "      <td>17.8</td>\n",
       "      <td>392.83</td>\n",
       "      <td>4.03</td>\n",
       "      <td>34.7</td>\n",
       "    </tr>\n",
       "    <tr>\n",
       "      <th>3</th>\n",
       "      <td>0.03237</td>\n",
       "      <td>0.0</td>\n",
       "      <td>2.18</td>\n",
       "      <td>0</td>\n",
       "      <td>0.458</td>\n",
       "      <td>6.998</td>\n",
       "      <td>45.8</td>\n",
       "      <td>6.0622</td>\n",
       "      <td>3</td>\n",
       "      <td>222.0</td>\n",
       "      <td>18.7</td>\n",
       "      <td>394.63</td>\n",
       "      <td>2.94</td>\n",
       "      <td>33.4</td>\n",
       "    </tr>\n",
       "    <tr>\n",
       "      <th>4</th>\n",
       "      <td>0.06905</td>\n",
       "      <td>0.0</td>\n",
       "      <td>2.18</td>\n",
       "      <td>0</td>\n",
       "      <td>0.458</td>\n",
       "      <td>7.147</td>\n",
       "      <td>54.2</td>\n",
       "      <td>6.0622</td>\n",
       "      <td>3</td>\n",
       "      <td>222.0</td>\n",
       "      <td>18.7</td>\n",
       "      <td>396.90</td>\n",
       "      <td>5.33</td>\n",
       "      <td>36.2</td>\n",
       "    </tr>\n",
       "  </tbody>\n",
       "</table>\n",
       "</div>"
      ],
      "text/plain": [
       "      CRIM    ZN  INDUS  CHAS    NOX     RM   AGE     DIS  RAD    TAX  \\\n",
       "0  0.00632  18.0   2.31     0  0.538  6.575  65.2  4.0900    1  296.0   \n",
       "1  0.02731   0.0   7.07     0  0.469  6.421  78.9  4.9671    2  242.0   \n",
       "2  0.02729   0.0   7.07     0  0.469  7.185  61.1  4.9671    2  242.0   \n",
       "3  0.03237   0.0   2.18     0  0.458  6.998  45.8  6.0622    3  222.0   \n",
       "4  0.06905   0.0   2.18     0  0.458  7.147  54.2  6.0622    3  222.0   \n",
       "\n",
       "   PTRATIO       B  LSTAT  MEDV  \n",
       "0     15.3  396.90   4.98  24.0  \n",
       "1     17.8  396.90   9.14  21.6  \n",
       "2     17.8  392.83   4.03  34.7  \n",
       "3     18.7  394.63   2.94  33.4  \n",
       "4     18.7  396.90   5.33  36.2  "
      ]
     },
     "execution_count": 3,
     "metadata": {},
     "output_type": "execute_result"
    }
   ],
   "source": [
    "X_full.head()"
   ]
  },
  {
   "cell_type": "code",
   "execution_count": 4,
   "id": "8f12a6a9",
   "metadata": {
    "execution": {
     "iopub.execute_input": "2022-09-29T17:32:37.551010Z",
     "iopub.status.busy": "2022-09-29T17:32:37.550613Z",
     "iopub.status.idle": "2022-09-29T17:32:37.557020Z",
     "shell.execute_reply": "2022-09-29T17:32:37.555987Z"
    },
    "papermill": {
     "duration": 0.01722,
     "end_time": "2022-09-29T17:32:37.559166",
     "exception": false,
     "start_time": "2022-09-29T17:32:37.541946",
     "status": "completed"
    },
    "tags": []
   },
   "outputs": [
    {
     "data": {
      "text/plain": [
       "(506, 14)"
      ]
     },
     "execution_count": 4,
     "metadata": {},
     "output_type": "execute_result"
    }
   ],
   "source": [
    "X_full.shape"
   ]
  },
  {
   "cell_type": "code",
   "execution_count": 5,
   "id": "f48299ca",
   "metadata": {
    "execution": {
     "iopub.execute_input": "2022-09-29T17:32:37.576006Z",
     "iopub.status.busy": "2022-09-29T17:32:37.575591Z",
     "iopub.status.idle": "2022-09-29T17:32:37.601862Z",
     "shell.execute_reply": "2022-09-29T17:32:37.600778Z"
    },
    "papermill": {
     "duration": 0.037449,
     "end_time": "2022-09-29T17:32:37.604125",
     "exception": false,
     "start_time": "2022-09-29T17:32:37.566676",
     "status": "completed"
    },
    "tags": []
   },
   "outputs": [
    {
     "name": "stdout",
     "output_type": "stream",
     "text": [
      "<class 'pandas.core.frame.DataFrame'>\n",
      "RangeIndex: 506 entries, 0 to 505\n",
      "Data columns (total 14 columns):\n",
      " #   Column   Non-Null Count  Dtype  \n",
      "---  ------   --------------  -----  \n",
      " 0   CRIM     506 non-null    float64\n",
      " 1   ZN       506 non-null    float64\n",
      " 2   INDUS    506 non-null    float64\n",
      " 3   CHAS     506 non-null    int64  \n",
      " 4   NOX      506 non-null    float64\n",
      " 5   RM       506 non-null    float64\n",
      " 6   AGE      506 non-null    float64\n",
      " 7   DIS      506 non-null    float64\n",
      " 8   RAD      506 non-null    int64  \n",
      " 9   TAX      506 non-null    float64\n",
      " 10  PTRATIO  506 non-null    float64\n",
      " 11  B        506 non-null    float64\n",
      " 12  LSTAT    506 non-null    float64\n",
      " 13  MEDV     506 non-null    float64\n",
      "dtypes: float64(12), int64(2)\n",
      "memory usage: 55.5 KB\n"
     ]
    }
   ],
   "source": [
    "X_full.info()"
   ]
  },
  {
   "cell_type": "code",
   "execution_count": 6,
   "id": "fd75022b",
   "metadata": {
    "execution": {
     "iopub.execute_input": "2022-09-29T17:32:37.621141Z",
     "iopub.status.busy": "2022-09-29T17:32:37.620739Z",
     "iopub.status.idle": "2022-09-29T17:32:37.673808Z",
     "shell.execute_reply": "2022-09-29T17:32:37.672799Z"
    },
    "papermill": {
     "duration": 0.064297,
     "end_time": "2022-09-29T17:32:37.676188",
     "exception": false,
     "start_time": "2022-09-29T17:32:37.611891",
     "status": "completed"
    },
    "tags": []
   },
   "outputs": [
    {
     "data": {
      "text/html": [
       "<div>\n",
       "<style scoped>\n",
       "    .dataframe tbody tr th:only-of-type {\n",
       "        vertical-align: middle;\n",
       "    }\n",
       "\n",
       "    .dataframe tbody tr th {\n",
       "        vertical-align: top;\n",
       "    }\n",
       "\n",
       "    .dataframe thead th {\n",
       "        text-align: right;\n",
       "    }\n",
       "</style>\n",
       "<table border=\"1\" class=\"dataframe\">\n",
       "  <thead>\n",
       "    <tr style=\"text-align: right;\">\n",
       "      <th></th>\n",
       "      <th>CRIM</th>\n",
       "      <th>ZN</th>\n",
       "      <th>INDUS</th>\n",
       "      <th>CHAS</th>\n",
       "      <th>NOX</th>\n",
       "      <th>RM</th>\n",
       "      <th>AGE</th>\n",
       "      <th>DIS</th>\n",
       "      <th>RAD</th>\n",
       "      <th>TAX</th>\n",
       "      <th>PTRATIO</th>\n",
       "      <th>B</th>\n",
       "      <th>LSTAT</th>\n",
       "      <th>MEDV</th>\n",
       "    </tr>\n",
       "  </thead>\n",
       "  <tbody>\n",
       "    <tr>\n",
       "      <th>count</th>\n",
       "      <td>506.000000</td>\n",
       "      <td>506.000000</td>\n",
       "      <td>506.000000</td>\n",
       "      <td>506.000000</td>\n",
       "      <td>506.000000</td>\n",
       "      <td>506.000000</td>\n",
       "      <td>506.000000</td>\n",
       "      <td>506.000000</td>\n",
       "      <td>506.000000</td>\n",
       "      <td>506.000000</td>\n",
       "      <td>506.000000</td>\n",
       "      <td>506.000000</td>\n",
       "      <td>506.000000</td>\n",
       "      <td>506.000000</td>\n",
       "    </tr>\n",
       "    <tr>\n",
       "      <th>mean</th>\n",
       "      <td>3.613524</td>\n",
       "      <td>11.363636</td>\n",
       "      <td>11.136779</td>\n",
       "      <td>0.069170</td>\n",
       "      <td>0.554695</td>\n",
       "      <td>6.284634</td>\n",
       "      <td>68.574901</td>\n",
       "      <td>3.795043</td>\n",
       "      <td>9.549407</td>\n",
       "      <td>408.237154</td>\n",
       "      <td>18.455534</td>\n",
       "      <td>356.674032</td>\n",
       "      <td>12.653063</td>\n",
       "      <td>22.532806</td>\n",
       "    </tr>\n",
       "    <tr>\n",
       "      <th>std</th>\n",
       "      <td>8.601545</td>\n",
       "      <td>23.322453</td>\n",
       "      <td>6.860353</td>\n",
       "      <td>0.253994</td>\n",
       "      <td>0.115878</td>\n",
       "      <td>0.702617</td>\n",
       "      <td>28.148861</td>\n",
       "      <td>2.105710</td>\n",
       "      <td>8.707259</td>\n",
       "      <td>168.537116</td>\n",
       "      <td>2.164946</td>\n",
       "      <td>91.294864</td>\n",
       "      <td>7.141062</td>\n",
       "      <td>9.197104</td>\n",
       "    </tr>\n",
       "    <tr>\n",
       "      <th>min</th>\n",
       "      <td>0.006320</td>\n",
       "      <td>0.000000</td>\n",
       "      <td>0.460000</td>\n",
       "      <td>0.000000</td>\n",
       "      <td>0.385000</td>\n",
       "      <td>3.561000</td>\n",
       "      <td>2.900000</td>\n",
       "      <td>1.129600</td>\n",
       "      <td>1.000000</td>\n",
       "      <td>187.000000</td>\n",
       "      <td>12.600000</td>\n",
       "      <td>0.320000</td>\n",
       "      <td>1.730000</td>\n",
       "      <td>5.000000</td>\n",
       "    </tr>\n",
       "    <tr>\n",
       "      <th>25%</th>\n",
       "      <td>0.082045</td>\n",
       "      <td>0.000000</td>\n",
       "      <td>5.190000</td>\n",
       "      <td>0.000000</td>\n",
       "      <td>0.449000</td>\n",
       "      <td>5.885500</td>\n",
       "      <td>45.025000</td>\n",
       "      <td>2.100175</td>\n",
       "      <td>4.000000</td>\n",
       "      <td>279.000000</td>\n",
       "      <td>17.400000</td>\n",
       "      <td>375.377500</td>\n",
       "      <td>6.950000</td>\n",
       "      <td>17.025000</td>\n",
       "    </tr>\n",
       "    <tr>\n",
       "      <th>50%</th>\n",
       "      <td>0.256510</td>\n",
       "      <td>0.000000</td>\n",
       "      <td>9.690000</td>\n",
       "      <td>0.000000</td>\n",
       "      <td>0.538000</td>\n",
       "      <td>6.208500</td>\n",
       "      <td>77.500000</td>\n",
       "      <td>3.207450</td>\n",
       "      <td>5.000000</td>\n",
       "      <td>330.000000</td>\n",
       "      <td>19.050000</td>\n",
       "      <td>391.440000</td>\n",
       "      <td>11.360000</td>\n",
       "      <td>21.200000</td>\n",
       "    </tr>\n",
       "    <tr>\n",
       "      <th>75%</th>\n",
       "      <td>3.677083</td>\n",
       "      <td>12.500000</td>\n",
       "      <td>18.100000</td>\n",
       "      <td>0.000000</td>\n",
       "      <td>0.624000</td>\n",
       "      <td>6.623500</td>\n",
       "      <td>94.075000</td>\n",
       "      <td>5.188425</td>\n",
       "      <td>24.000000</td>\n",
       "      <td>666.000000</td>\n",
       "      <td>20.200000</td>\n",
       "      <td>396.225000</td>\n",
       "      <td>16.955000</td>\n",
       "      <td>25.000000</td>\n",
       "    </tr>\n",
       "    <tr>\n",
       "      <th>max</th>\n",
       "      <td>88.976200</td>\n",
       "      <td>100.000000</td>\n",
       "      <td>27.740000</td>\n",
       "      <td>1.000000</td>\n",
       "      <td>0.871000</td>\n",
       "      <td>8.780000</td>\n",
       "      <td>100.000000</td>\n",
       "      <td>12.126500</td>\n",
       "      <td>24.000000</td>\n",
       "      <td>711.000000</td>\n",
       "      <td>22.000000</td>\n",
       "      <td>396.900000</td>\n",
       "      <td>37.970000</td>\n",
       "      <td>50.000000</td>\n",
       "    </tr>\n",
       "  </tbody>\n",
       "</table>\n",
       "</div>"
      ],
      "text/plain": [
       "             CRIM          ZN       INDUS        CHAS         NOX          RM  \\\n",
       "count  506.000000  506.000000  506.000000  506.000000  506.000000  506.000000   \n",
       "mean     3.613524   11.363636   11.136779    0.069170    0.554695    6.284634   \n",
       "std      8.601545   23.322453    6.860353    0.253994    0.115878    0.702617   \n",
       "min      0.006320    0.000000    0.460000    0.000000    0.385000    3.561000   \n",
       "25%      0.082045    0.000000    5.190000    0.000000    0.449000    5.885500   \n",
       "50%      0.256510    0.000000    9.690000    0.000000    0.538000    6.208500   \n",
       "75%      3.677083   12.500000   18.100000    0.000000    0.624000    6.623500   \n",
       "max     88.976200  100.000000   27.740000    1.000000    0.871000    8.780000   \n",
       "\n",
       "              AGE         DIS         RAD         TAX     PTRATIO           B  \\\n",
       "count  506.000000  506.000000  506.000000  506.000000  506.000000  506.000000   \n",
       "mean    68.574901    3.795043    9.549407  408.237154   18.455534  356.674032   \n",
       "std     28.148861    2.105710    8.707259  168.537116    2.164946   91.294864   \n",
       "min      2.900000    1.129600    1.000000  187.000000   12.600000    0.320000   \n",
       "25%     45.025000    2.100175    4.000000  279.000000   17.400000  375.377500   \n",
       "50%     77.500000    3.207450    5.000000  330.000000   19.050000  391.440000   \n",
       "75%     94.075000    5.188425   24.000000  666.000000   20.200000  396.225000   \n",
       "max    100.000000   12.126500   24.000000  711.000000   22.000000  396.900000   \n",
       "\n",
       "            LSTAT        MEDV  \n",
       "count  506.000000  506.000000  \n",
       "mean    12.653063   22.532806  \n",
       "std      7.141062    9.197104  \n",
       "min      1.730000    5.000000  \n",
       "25%      6.950000   17.025000  \n",
       "50%     11.360000   21.200000  \n",
       "75%     16.955000   25.000000  \n",
       "max     37.970000   50.000000  "
      ]
     },
     "execution_count": 6,
     "metadata": {},
     "output_type": "execute_result"
    }
   ],
   "source": [
    "X_full.describe()"
   ]
  },
  {
   "cell_type": "markdown",
   "id": "8402f19b",
   "metadata": {
    "papermill": {
     "duration": 0.007694,
     "end_time": "2022-09-29T17:32:37.692876",
     "exception": false,
     "start_time": "2022-09-29T17:32:37.685182",
     "status": "completed"
    },
    "tags": []
   },
   "source": [
    "## Searching for outliers "
   ]
  },
  {
   "cell_type": "code",
   "execution_count": 7,
   "id": "7b946d52",
   "metadata": {
    "execution": {
     "iopub.execute_input": "2022-09-29T17:32:37.710604Z",
     "iopub.status.busy": "2022-09-29T17:32:37.710212Z",
     "iopub.status.idle": "2022-09-29T17:32:39.731635Z",
     "shell.execute_reply": "2022-09-29T17:32:39.730753Z"
    },
    "papermill": {
     "duration": 2.033063,
     "end_time": "2022-09-29T17:32:39.733973",
     "exception": false,
     "start_time": "2022-09-29T17:32:37.700910",
     "status": "completed"
    },
    "tags": []
   },
   "outputs": [
    {
     "data": {
      "image/png": "[encoded data removed]",
      "text/plain": [
       "<Figure size 432x288 with 1 Axes>"
      ]
     },
     "metadata": {
      "needs_background": "light"
     },
     "output_type": "display_data"
    },
    {
     "data": {
      "image/png": "[encoded data removed]",
      "text/plain": [
       "<Figure size 432x288 with 1 Axes>"
      ]
     },
     "metadata": {
      "needs_background": "light"
     },
     "output_type": "display_data"
    },
    {
     "data": {
      "image/png": "[encoded data removed]",
      "text/plain": [
       "<Figure size 432x288 with 1 Axes>"
      ]
     },
     "metadata": {
      "needs_background": "light"
     },
     "output_type": "display_data"
    },
    {
     "data": {
      "image/png": "[encoded data removed]",
      "text/plain": [
       "<Figure size 432x288 with 1 Axes>"
      ]
     },
     "metadata": {
      "needs_background": "light"
     },
     "output_type": "display_data"
    },
    {
     "data": {
      "image/png": "[encoded data removed]",
      "text/plain": [
       "<Figure size 432x288 with 1 Axes>"
      ]
     },
     "metadata": {
      "needs_background": "light"
     },
     "output_type": "display_data"
    },
    {
     "data": {
      "image/png": "[encoded data removed]",
      "text/plain": [
       "<Figure size 432x288 with 1 Axes>"
      ]
     },
     "metadata": {
      "needs_background": "light"
     },
     "output_type": "display_data"
    },
    {
     "data": {
      "image/png": "[encoded data removed]",
      "text/plain": [
       "<Figure size 432x288 with 1 Axes>"
      ]
     },
     "metadata": {
      "needs_background": "light"
     },
     "output_type": "display_data"
    },
    {
     "data": {
      "image/png": "[encoded data removed]",
      "text/plain": [
       "<Figure size 432x288 with 1 Axes>"
      ]
     },
     "metadata": {
      "needs_background": "light"
     },
     "output_type": "display_data"
    },
    {
     "data": {
      "image/png": "[encoded data removed]",
      "text/plain": [
       "<Figure size 432x288 with 1 Axes>"
      ]
     },
     "metadata": {
      "needs_background": "light"
     },
     "output_type": "display_data"
    },
    {
     "data": {
      "image/png": "[encoded data removed]",
      "text/plain": [
       "<Figure size 432x288 with 1 Axes>"
      ]
     },
     "metadata": {
      "needs_background": "light"
     },
     "output_type": "display_data"
    },
    {
     "data": {
      "image/png": "[encoded data removed]",
      "text/plain": [
       "<Figure size 432x288 with 1 Axes>"
      ]
     },
     "metadata": {
      "needs_background": "light"
     },
     "output_type": "display_data"
    },
    {
     "data": {
      "image/png": "[encoded data removed]",
      "text/plain": [
       "<Figure size 432x288 with 1 Axes>"
      ]
     },
     "metadata": {
      "needs_background": "light"
     },
     "output_type": "display_data"
    },
    {
     "data": {
      "image/png": "[encoded data removed]",
      "text/plain": [
       "<Figure size 432x288 with 1 Axes>"
      ]
     },
     "metadata": {
      "needs_background": "light"
     },
     "output_type": "display_data"
    },
    {
     "data": {
      "image/png": "[encoded data removed]",
      "text/plain": [
       "<Figure size 432x288 with 1 Axes>"
      ]
     },
     "metadata": {
      "needs_background": "light"
     },
     "output_type": "display_data"
    }
   ],
   "source": [
    "import matplotlib.pyplot as plt\n",
    "\n",
    "for feature in X_full:\n",
    "    plt.figure()\n",
    "    plt.title(feature)\n",
    "    plt.boxplot(X_full[feature])"
   ]
  },
  {
   "cell_type": "code",
   "execution_count": 8,
   "id": "c29f5957",
   "metadata": {
    "execution": {
     "iopub.execute_input": "2022-09-29T17:32:39.757235Z",
     "iopub.status.busy": "2022-09-29T17:32:39.756835Z",
     "iopub.status.idle": "2022-09-29T17:32:39.763539Z",
     "shell.execute_reply": "2022-09-29T17:32:39.762238Z"
    },
    "papermill": {
     "duration": 0.02096,
     "end_time": "2022-09-29T17:32:39.765929",
     "exception": false,
     "start_time": "2022-09-29T17:32:39.744969",
     "status": "completed"
    },
    "tags": []
   },
   "outputs": [],
   "source": [
    "# Function that removes the outliers\n",
    "def remove_outliers(df,columns,n_std):\n",
    "    for col in columns:\n",
    "        print('Working on column: {}'.format(col))\n",
    "        \n",
    "        mean = df[col].mean()\n",
    "        sd = df[col].std()\n",
    "        \n",
    "        df = df[(df[col] <= mean+(n_std*sd))]\n",
    "        \n",
    "    return df"
   ]
  },
  {
   "cell_type": "code",
   "execution_count": 9,
   "id": "8549807d",
   "metadata": {
    "execution": {
     "iopub.execute_input": "2022-09-29T17:32:39.789133Z",
     "iopub.status.busy": "2022-09-29T17:32:39.788707Z",
     "iopub.status.idle": "2022-09-29T17:32:39.803478Z",
     "shell.execute_reply": "2022-09-29T17:32:39.802289Z"
    },
    "papermill": {
     "duration": 0.028856,
     "end_time": "2022-09-29T17:32:39.805669",
     "exception": false,
     "start_time": "2022-09-29T17:32:39.776813",
     "status": "completed"
    },
    "tags": []
   },
   "outputs": [
    {
     "name": "stdout",
     "output_type": "stream",
     "text": [
      "Working on column: MEDV\n",
      "Working on column: LSTAT\n",
      "Working on column: B\n",
      "Working on column: DIS\n",
      "Working on column: RM\n",
      "Working on column: CHAS\n",
      "Working on column: ZN\n",
      "Working on column: CRIM\n"
     ]
    }
   ],
   "source": [
    "cols_with_outliers = ['MEDV','LSTAT','B','DIS','RM','CHAS','ZN','CRIM']\n",
    "X_full_with_out = X_full.shape[0]\n",
    "X_full = remove_outliers(X_full,cols_with_outliers,3)"
   ]
  },
  {
   "cell_type": "code",
   "execution_count": 10,
   "id": "33758800",
   "metadata": {
    "execution": {
     "iopub.execute_input": "2022-09-29T17:32:39.828780Z",
     "iopub.status.busy": "2022-09-29T17:32:39.828132Z",
     "iopub.status.idle": "2022-09-29T17:32:39.833542Z",
     "shell.execute_reply": "2022-09-29T17:32:39.832592Z"
    },
    "papermill": {
     "duration": 0.019294,
     "end_time": "2022-09-29T17:32:39.835658",
     "exception": false,
     "start_time": "2022-09-29T17:32:39.816364",
     "status": "completed"
    },
    "tags": []
   },
   "outputs": [
    {
     "name": "stdout",
     "output_type": "stream",
     "text": [
      "80 outliers were removed of the dataset\n"
     ]
    }
   ],
   "source": [
    "print(X_full_with_out - X_full.shape[0], 'outliers were removed of the dataset')"
   ]
  },
  {
   "cell_type": "code",
   "execution_count": 11,
   "id": "376bcd46",
   "metadata": {
    "execution": {
     "iopub.execute_input": "2022-09-29T17:32:39.858051Z",
     "iopub.status.busy": "2022-09-29T17:32:39.857659Z",
     "iopub.status.idle": "2022-09-29T17:32:40.050825Z",
     "shell.execute_reply": "2022-09-29T17:32:40.049651Z"
    },
    "papermill": {
     "duration": 0.207019,
     "end_time": "2022-09-29T17:32:40.053202",
     "exception": false,
     "start_time": "2022-09-29T17:32:39.846183",
     "status": "completed"
    },
    "tags": []
   },
   "outputs": [
    {
     "data": {
      "text/plain": [
       "{'whiskers': [<matplotlib.lines.Line2D at 0x7ff7a85428d0>,\n",
       "  <matplotlib.lines.Line2D at 0x7ff7a8542b10>],\n",
       " 'caps': [<matplotlib.lines.Line2D at 0x7ff7a8542e50>,\n",
       "  <matplotlib.lines.Line2D at 0x7ff7a854c1d0>],\n",
       " 'boxes': [<matplotlib.lines.Line2D at 0x7ff7a85425d0>],\n",
       " 'medians': [<matplotlib.lines.Line2D at 0x7ff7a854c550>],\n",
       " 'fliers': [<matplotlib.lines.Line2D at 0x7ff7a854c890>],\n",
       " 'means': []}"
      ]
     },
     "execution_count": 11,
     "metadata": {},
     "output_type": "execute_result"
    },
    {
     "data": {
      "image/png": "[encoded data removed]",
      "text/plain": [
       "<Figure size 432x288 with 1 Axes>"
      ]
     },
     "metadata": {
      "needs_background": "light"
     },
     "output_type": "display_data"
    }
   ],
   "source": [
    " plt.boxplot(X_full['CRIM'])\n"
   ]
  },
  {
   "cell_type": "markdown",
   "id": "e088663b",
   "metadata": {
    "papermill": {
     "duration": 0.010853,
     "end_time": "2022-09-29T17:32:40.075280",
     "exception": false,
     "start_time": "2022-09-29T17:32:40.064427",
     "status": "completed"
    },
    "tags": []
   },
   "source": [
    "# Normalizing Data and Using SimpleImputer"
   ]
  },
  {
   "cell_type": "code",
   "execution_count": 12,
   "id": "614a0ccc",
   "metadata": {
    "execution": {
     "iopub.execute_input": "2022-09-29T17:32:40.099551Z",
     "iopub.status.busy": "2022-09-29T17:32:40.098704Z",
     "iopub.status.idle": "2022-09-29T17:32:41.328336Z",
     "shell.execute_reply": "2022-09-29T17:32:41.327310Z"
    },
    "papermill": {
     "duration": 1.244662,
     "end_time": "2022-09-29T17:32:41.331047",
     "exception": false,
     "start_time": "2022-09-29T17:32:40.086385",
     "status": "completed"
    },
    "tags": []
   },
   "outputs": [],
   "source": [
    "from sklearn.impute import SimpleImputer\n",
    "from sklearn.pipeline import Pipeline\n",
    "cols = X_full.columns\n",
    "from sklearn.preprocessing import MinMaxScaler\n",
    "\n",
    "scaler = MinMaxScaler()\n",
    "numerical_transformer = SimpleImputer()\n",
    "\n",
    "X_full = pd.DataFrame(numerical_transformer.fit_transform(X_full),columns = cols)\n",
    "X_full = pd.DataFrame(scaler.fit_transform(X_full),columns = cols)\n"
   ]
  },
  {
   "cell_type": "code",
   "execution_count": 13,
   "id": "3a3f0a8b",
   "metadata": {
    "execution": {
     "iopub.execute_input": "2022-09-29T17:32:41.355976Z",
     "iopub.status.busy": "2022-09-29T17:32:41.354706Z",
     "iopub.status.idle": "2022-09-29T17:32:41.375678Z",
     "shell.execute_reply": "2022-09-29T17:32:41.374411Z"
    },
    "papermill": {
     "duration": 0.035976,
     "end_time": "2022-09-29T17:32:41.378217",
     "exception": false,
     "start_time": "2022-09-29T17:32:41.342241",
     "status": "completed"
    },
    "tags": []
   },
   "outputs": [
    {
     "data": {
      "text/html": [
       "<div>\n",
       "<style scoped>\n",
       "    .dataframe tbody tr th:only-of-type {\n",
       "        vertical-align: middle;\n",
       "    }\n",
       "\n",
       "    .dataframe tbody tr th {\n",
       "        vertical-align: top;\n",
       "    }\n",
       "\n",
       "    .dataframe thead th {\n",
       "        text-align: right;\n",
       "    }\n",
       "</style>\n",
       "<table border=\"1\" class=\"dataframe\">\n",
       "  <thead>\n",
       "    <tr style=\"text-align: right;\">\n",
       "      <th></th>\n",
       "      <th>CRIM</th>\n",
       "      <th>ZN</th>\n",
       "      <th>INDUS</th>\n",
       "      <th>CHAS</th>\n",
       "      <th>NOX</th>\n",
       "      <th>RM</th>\n",
       "      <th>AGE</th>\n",
       "      <th>DIS</th>\n",
       "      <th>RAD</th>\n",
       "      <th>TAX</th>\n",
       "      <th>PTRATIO</th>\n",
       "      <th>B</th>\n",
       "      <th>LSTAT</th>\n",
       "      <th>MEDV</th>\n",
       "    </tr>\n",
       "  </thead>\n",
       "  <tbody>\n",
       "    <tr>\n",
       "      <th>0</th>\n",
       "      <td>0.000000</td>\n",
       "      <td>0.24</td>\n",
       "      <td>0.040015</td>\n",
       "      <td>0.0</td>\n",
       "      <td>0.309129</td>\n",
       "      <td>0.631072</td>\n",
       "      <td>0.641607</td>\n",
       "      <td>0.362674</td>\n",
       "      <td>0.000000</td>\n",
       "      <td>0.206501</td>\n",
       "      <td>0.280488</td>\n",
       "      <td>1.000000</td>\n",
       "      <td>0.100650</td>\n",
       "      <td>0.414414</td>\n",
       "    </tr>\n",
       "    <tr>\n",
       "      <th>1</th>\n",
       "      <td>0.000733</td>\n",
       "      <td>0.00</td>\n",
       "      <td>0.219706</td>\n",
       "      <td>0.0</td>\n",
       "      <td>0.165975</td>\n",
       "      <td>0.598827</td>\n",
       "      <td>0.782698</td>\n",
       "      <td>0.471579</td>\n",
       "      <td>0.043478</td>\n",
       "      <td>0.103250</td>\n",
       "      <td>0.585366</td>\n",
       "      <td>1.000000</td>\n",
       "      <td>0.229483</td>\n",
       "      <td>0.360360</td>\n",
       "    </tr>\n",
       "    <tr>\n",
       "      <th>2</th>\n",
       "      <td>0.000732</td>\n",
       "      <td>0.00</td>\n",
       "      <td>0.219706</td>\n",
       "      <td>0.0</td>\n",
       "      <td>0.165975</td>\n",
       "      <td>0.758794</td>\n",
       "      <td>0.599382</td>\n",
       "      <td>0.471579</td>\n",
       "      <td>0.043478</td>\n",
       "      <td>0.103250</td>\n",
       "      <td>0.585366</td>\n",
       "      <td>0.989737</td>\n",
       "      <td>0.071229</td>\n",
       "      <td>0.655405</td>\n",
       "    </tr>\n",
       "    <tr>\n",
       "      <th>3</th>\n",
       "      <td>0.000909</td>\n",
       "      <td>0.00</td>\n",
       "      <td>0.035108</td>\n",
       "      <td>0.0</td>\n",
       "      <td>0.143154</td>\n",
       "      <td>0.719640</td>\n",
       "      <td>0.441813</td>\n",
       "      <td>0.607552</td>\n",
       "      <td>0.086957</td>\n",
       "      <td>0.065010</td>\n",
       "      <td>0.695122</td>\n",
       "      <td>0.994276</td>\n",
       "      <td>0.037473</td>\n",
       "      <td>0.626126</td>\n",
       "    </tr>\n",
       "    <tr>\n",
       "      <th>4</th>\n",
       "      <td>0.002190</td>\n",
       "      <td>0.00</td>\n",
       "      <td>0.035108</td>\n",
       "      <td>0.0</td>\n",
       "      <td>0.143154</td>\n",
       "      <td>0.750838</td>\n",
       "      <td>0.528321</td>\n",
       "      <td>0.607552</td>\n",
       "      <td>0.086957</td>\n",
       "      <td>0.065010</td>\n",
       "      <td>0.695122</td>\n",
       "      <td>1.000000</td>\n",
       "      <td>0.111490</td>\n",
       "      <td>0.689189</td>\n",
       "    </tr>\n",
       "  </tbody>\n",
       "</table>\n",
       "</div>"
      ],
      "text/plain": [
       "       CRIM    ZN     INDUS  CHAS       NOX        RM       AGE       DIS  \\\n",
       "0  0.000000  0.24  0.040015   0.0  0.309129  0.631072  0.641607  0.362674   \n",
       "1  0.000733  0.00  0.219706   0.0  0.165975  0.598827  0.782698  0.471579   \n",
       "2  0.000732  0.00  0.219706   0.0  0.165975  0.758794  0.599382  0.471579   \n",
       "3  0.000909  0.00  0.035108   0.0  0.143154  0.719640  0.441813  0.607552   \n",
       "4  0.002190  0.00  0.035108   0.0  0.143154  0.750838  0.528321  0.607552   \n",
       "\n",
       "        RAD       TAX   PTRATIO         B     LSTAT      MEDV  \n",
       "0  0.000000  0.206501  0.280488  1.000000  0.100650  0.414414  \n",
       "1  0.043478  0.103250  0.585366  1.000000  0.229483  0.360360  \n",
       "2  0.043478  0.103250  0.585366  0.989737  0.071229  0.655405  \n",
       "3  0.086957  0.065010  0.695122  0.994276  0.037473  0.626126  \n",
       "4  0.086957  0.065010  0.695122  1.000000  0.111490  0.689189  "
      ]
     },
     "execution_count": 13,
     "metadata": {},
     "output_type": "execute_result"
    }
   ],
   "source": [
    "# Normalized and without NAN values DataFrame\n",
    "\n",
    "X_full.head()"
   ]
  },
  {
   "cell_type": "code",
   "execution_count": 14,
   "id": "19f0a659",
   "metadata": {
    "execution": {
     "iopub.execute_input": "2022-09-29T17:32:41.403092Z",
     "iopub.status.busy": "2022-09-29T17:32:41.402026Z",
     "iopub.status.idle": "2022-09-29T17:32:41.411388Z",
     "shell.execute_reply": "2022-09-29T17:32:41.410211Z"
    },
    "papermill": {
     "duration": 0.024029,
     "end_time": "2022-09-29T17:32:41.413641",
     "exception": false,
     "start_time": "2022-09-29T17:32:41.389612",
     "status": "completed"
    },
    "tags": []
   },
   "outputs": [
    {
     "data": {
      "text/plain": [
       "CRIM       0\n",
       "ZN         0\n",
       "INDUS      0\n",
       "CHAS       0\n",
       "NOX        0\n",
       "RM         0\n",
       "AGE        0\n",
       "DIS        0\n",
       "RAD        0\n",
       "TAX        0\n",
       "PTRATIO    0\n",
       "B          0\n",
       "LSTAT      0\n",
       "MEDV       0\n",
       "dtype: int64"
      ]
     },
     "execution_count": 14,
     "metadata": {},
     "output_type": "execute_result"
    }
   ],
   "source": [
    "X_full.isna().sum()"
   ]
  },
  {
   "cell_type": "code",
   "execution_count": 15,
   "id": "90f44e6b",
   "metadata": {
    "execution": {
     "iopub.execute_input": "2022-09-29T17:32:41.438498Z",
     "iopub.status.busy": "2022-09-29T17:32:41.438128Z",
     "iopub.status.idle": "2022-09-29T17:32:41.444456Z",
     "shell.execute_reply": "2022-09-29T17:32:41.443408Z"
    },
    "papermill": {
     "duration": 0.020992,
     "end_time": "2022-09-29T17:32:41.446468",
     "exception": false,
     "start_time": "2022-09-29T17:32:41.425476",
     "status": "completed"
    },
    "tags": []
   },
   "outputs": [],
   "source": [
    "X = X_full.drop(['MEDV'],axis=1)\n",
    "y = X_full['MEDV']"
   ]
  },
  {
   "cell_type": "code",
   "execution_count": 16,
   "id": "00a1e94e",
   "metadata": {
    "execution": {
     "iopub.execute_input": "2022-09-29T17:32:41.472166Z",
     "iopub.status.busy": "2022-09-29T17:32:41.471407Z",
     "iopub.status.idle": "2022-09-29T17:32:41.685590Z",
     "shell.execute_reply": "2022-09-29T17:32:41.684359Z"
    },
    "papermill": {
     "duration": 0.229999,
     "end_time": "2022-09-29T17:32:41.688358",
     "exception": false,
     "start_time": "2022-09-29T17:32:41.458359",
     "status": "completed"
    },
    "tags": []
   },
   "outputs": [],
   "source": [
    "from xgboost import XGBRegressor\n",
    "from sklearn.ensemble import RandomForestRegressor\n",
    "from sklearn.model_selection import train_test_split\n",
    "from sklearn.metrics import mean_absolute_error, r2_score\n",
    "\n",
    "\n",
    "SEED=42\n",
    "\n",
    "X_train,X_val,y_train,y_val = train_test_split(X,y,random_state = SEED,test_size = 0.2)"
   ]
  },
  {
   "cell_type": "markdown",
   "id": "94e96200",
   "metadata": {
    "papermill": {
     "duration": 0.011683,
     "end_time": "2022-09-29T17:32:41.711840",
     "exception": false,
     "start_time": "2022-09-29T17:32:41.700157",
     "status": "completed"
    },
    "tags": []
   },
   "source": [
    "# GridSearchCV to found HyperParameters"
   ]
  },
  {
   "cell_type": "code",
   "execution_count": 17,
   "id": "f3d7f9fa",
   "metadata": {
    "execution": {
     "iopub.execute_input": "2022-09-29T17:32:41.737170Z",
     "iopub.status.busy": "2022-09-29T17:32:41.736404Z",
     "iopub.status.idle": "2022-09-29T17:32:41.742422Z",
     "shell.execute_reply": "2022-09-29T17:32:41.741408Z"
    },
    "papermill": {
     "duration": 0.021258,
     "end_time": "2022-09-29T17:32:41.744752",
     "exception": false,
     "start_time": "2022-09-29T17:32:41.723494",
     "status": "completed"
    },
    "tags": []
   },
   "outputs": [],
   "source": [
    "from sklearn.model_selection import GridSearchCV\n",
    "\n",
    "model_xgbr = XGBRegressor(seed=SEED)\n",
    "\n",
    "parameter_trials={'n_estimators':[i for i in range(200,0,-5)],\n",
    "                  'learning_rate':[1.0, 0.9, 0.8, 0.7, 0.6, 0.5, 0.4, 0.3, 0.2, 0.1],          \n",
    "                  'n_jobs': [-1],\n",
    "                 }"
   ]
  },
  {
   "cell_type": "code",
   "execution_count": 18,
   "id": "47960251",
   "metadata": {
    "execution": {
     "iopub.execute_input": "2022-09-29T17:32:41.770000Z",
     "iopub.status.busy": "2022-09-29T17:32:41.769583Z",
     "iopub.status.idle": "2022-09-29T17:36:09.148903Z",
     "shell.execute_reply": "2022-09-29T17:36:09.147276Z"
    },
    "papermill": {
     "duration": 207.396503,
     "end_time": "2022-09-29T17:36:09.152805",
     "exception": false,
     "start_time": "2022-09-29T17:32:41.756302",
     "status": "completed"
    },
    "tags": []
   },
   "outputs": [],
   "source": [
    "grid_search = GridSearchCV(model_xgbr,\n",
    "                           parameter_trials,\n",
    "                           cv=5,\n",
    "                           n_jobs=-1,\n",
    "                           verbose=0)\n",
    "\n",
    "grid_search_results = grid_search.fit(X_train,y_train)"
   ]
  },
  {
   "cell_type": "code",
   "execution_count": 19,
   "id": "77ad99d4",
   "metadata": {
    "execution": {
     "iopub.execute_input": "2022-09-29T17:36:09.179195Z",
     "iopub.status.busy": "2022-09-29T17:36:09.178805Z",
     "iopub.status.idle": "2022-09-29T17:36:09.184335Z",
     "shell.execute_reply": "2022-09-29T17:36:09.183184Z"
    },
    "papermill": {
     "duration": 0.021797,
     "end_time": "2022-09-29T17:36:09.187419",
     "exception": false,
     "start_time": "2022-09-29T17:36:09.165622",
     "status": "completed"
    },
    "tags": []
   },
   "outputs": [
    {
     "name": "stdout",
     "output_type": "stream",
     "text": [
      "{'learning_rate': 0.8, 'n_estimators': 200, 'n_jobs': -1}\n"
     ]
    }
   ],
   "source": [
    "print(grid_search_results.best_params_)"
   ]
  },
  {
   "cell_type": "code",
   "execution_count": 20,
   "id": "2ff40fd7",
   "metadata": {
    "execution": {
     "iopub.execute_input": "2022-09-29T17:36:09.211896Z",
     "iopub.status.busy": "2022-09-29T17:36:09.211176Z",
     "iopub.status.idle": "2022-09-29T17:36:09.216580Z",
     "shell.execute_reply": "2022-09-29T17:36:09.215760Z"
    },
    "papermill": {
     "duration": 0.020617,
     "end_time": "2022-09-29T17:36:09.219157",
     "exception": false,
     "start_time": "2022-09-29T17:36:09.198540",
     "status": "completed"
    },
    "tags": []
   },
   "outputs": [],
   "source": [
    "model_xgbr = XGBRegressor(learning_rate=0.8,n_estimators=200,n_jobs=-1,seed=SEED)"
   ]
  },
  {
   "cell_type": "code",
   "execution_count": 21,
   "id": "244ff58a",
   "metadata": {
    "execution": {
     "iopub.execute_input": "2022-09-29T17:36:09.243499Z",
     "iopub.status.busy": "2022-09-29T17:36:09.243136Z",
     "iopub.status.idle": "2022-09-29T17:36:09.698622Z",
     "shell.execute_reply": "2022-09-29T17:36:09.697746Z"
    },
    "papermill": {
     "duration": 0.47064,
     "end_time": "2022-09-29T17:36:09.701154",
     "exception": false,
     "start_time": "2022-09-29T17:36:09.230514",
     "status": "completed"
    },
    "tags": []
   },
   "outputs": [],
   "source": [
    "model_xgbr.fit(X_train,y_train)\n",
    "xgbr_preds = model_xgbr.predict(X_val)\n",
    "\n",
    "xgbr_mae = mean_absolute_error(y_val,xgbr_preds)\n",
    "xgbr_r2 = r2_score(y_val,xgbr_preds)"
   ]
  },
  {
   "cell_type": "code",
   "execution_count": 22,
   "id": "72f24b85",
   "metadata": {
    "execution": {
     "iopub.execute_input": "2022-09-29T17:36:09.727653Z",
     "iopub.status.busy": "2022-09-29T17:36:09.727269Z",
     "iopub.status.idle": "2022-09-29T17:36:09.744219Z",
     "shell.execute_reply": "2022-09-29T17:36:09.742871Z"
    },
    "papermill": {
     "duration": 0.032491,
     "end_time": "2022-09-29T17:36:09.747035",
     "exception": false,
     "start_time": "2022-09-29T17:36:09.714544",
     "status": "completed"
    },
    "tags": []
   },
   "outputs": [
    {
     "name": "stdout",
     "output_type": "stream",
     "text": [
      "XGBR MAE: 0.054162875160484375\n",
      "XGBR R²: 0.8454130998727564\n"
     ]
    },
    {
     "data": {
      "text/html": [
       "<div>\n",
       "<style scoped>\n",
       "    .dataframe tbody tr th:only-of-type {\n",
       "        vertical-align: middle;\n",
       "    }\n",
       "\n",
       "    .dataframe tbody tr th {\n",
       "        vertical-align: top;\n",
       "    }\n",
       "\n",
       "    .dataframe thead th {\n",
       "        text-align: right;\n",
       "    }\n",
       "</style>\n",
       "<table border=\"1\" class=\"dataframe\">\n",
       "  <thead>\n",
       "    <tr style=\"text-align: right;\">\n",
       "      <th></th>\n",
       "      <th>actual</th>\n",
       "      <th>predicted</th>\n",
       "    </tr>\n",
       "  </thead>\n",
       "  <tbody>\n",
       "    <tr>\n",
       "      <th>418</th>\n",
       "      <td>0.351351</td>\n",
       "      <td>0.319722</td>\n",
       "    </tr>\n",
       "    <tr>\n",
       "      <th>75</th>\n",
       "      <td>0.504505</td>\n",
       "      <td>0.553092</td>\n",
       "    </tr>\n",
       "    <tr>\n",
       "      <th>176</th>\n",
       "      <td>0.659910</td>\n",
       "      <td>0.696944</td>\n",
       "    </tr>\n",
       "    <tr>\n",
       "      <th>30</th>\n",
       "      <td>0.159910</td>\n",
       "      <td>0.218777</td>\n",
       "    </tr>\n",
       "    <tr>\n",
       "      <th>357</th>\n",
       "      <td>0.069820</td>\n",
       "      <td>0.090016</td>\n",
       "    </tr>\n",
       "    <tr>\n",
       "      <th>...</th>\n",
       "      <td>...</td>\n",
       "      <td>...</td>\n",
       "    </tr>\n",
       "    <tr>\n",
       "      <th>375</th>\n",
       "      <td>0.191441</td>\n",
       "      <td>0.215471</td>\n",
       "    </tr>\n",
       "    <tr>\n",
       "      <th>57</th>\n",
       "      <td>0.295045</td>\n",
       "      <td>0.321939</td>\n",
       "    </tr>\n",
       "    <tr>\n",
       "      <th>124</th>\n",
       "      <td>0.195946</td>\n",
       "      <td>0.278039</td>\n",
       "    </tr>\n",
       "    <tr>\n",
       "      <th>24</th>\n",
       "      <td>0.225225</td>\n",
       "      <td>0.204093</td>\n",
       "    </tr>\n",
       "    <tr>\n",
       "      <th>17</th>\n",
       "      <td>0.268018</td>\n",
       "      <td>0.266093</td>\n",
       "    </tr>\n",
       "  </tbody>\n",
       "</table>\n",
       "<p>86 rows × 2 columns</p>\n",
       "</div>"
      ],
      "text/plain": [
       "       actual  predicted\n",
       "418  0.351351   0.319722\n",
       "75   0.504505   0.553092\n",
       "176  0.659910   0.696944\n",
       "30   0.159910   0.218777\n",
       "357  0.069820   0.090016\n",
       "..        ...        ...\n",
       "375  0.191441   0.215471\n",
       "57   0.295045   0.321939\n",
       "124  0.195946   0.278039\n",
       "24   0.225225   0.204093\n",
       "17   0.268018   0.266093\n",
       "\n",
       "[86 rows x 2 columns]"
      ]
     },
     "execution_count": 22,
     "metadata": {},
     "output_type": "execute_result"
    }
   ],
   "source": [
    "print(f\"XGBR MAE: {xgbr_mae}\\nXGBR R²: {xgbr_r2}\")\n",
    "\n",
    "pd.DataFrame({\n",
    "    'actual':y_val,\n",
    "    'predicted':xgbr_preds\n",
    "})"
   ]
  },
  {
   "cell_type": "code",
   "execution_count": 23,
   "id": "6cae7f98",
   "metadata": {
    "execution": {
     "iopub.execute_input": "2022-09-29T17:36:09.772395Z",
     "iopub.status.busy": "2022-09-29T17:36:09.771767Z",
     "iopub.status.idle": "2022-09-29T17:36:09.777534Z",
     "shell.execute_reply": "2022-09-29T17:36:09.776795Z"
    },
    "papermill": {
     "duration": 0.021189,
     "end_time": "2022-09-29T17:36:09.779768",
     "exception": false,
     "start_time": "2022-09-29T17:36:09.758579",
     "status": "completed"
    },
    "tags": []
   },
   "outputs": [],
   "source": [
    "model_rfr = RandomForestRegressor()\n",
    "\n",
    "parameter_rfr = {\n",
    "    'n_estimators':[i for i in range(100,0,-5)],\n",
    "    'criterion':['squared_error','absolute_error','poisson'],\n",
    "    'n_jobs':[-1],\n",
    "    'random_state':[42]\n",
    "}"
   ]
  },
  {
   "cell_type": "code",
   "execution_count": 24,
   "id": "245efd14",
   "metadata": {
    "execution": {
     "iopub.execute_input": "2022-09-29T17:36:09.804918Z",
     "iopub.status.busy": "2022-09-29T17:36:09.804225Z",
     "iopub.status.idle": "2022-09-29T17:36:51.282377Z",
     "shell.execute_reply": "2022-09-29T17:36:51.281416Z"
    },
    "papermill": {
     "duration": 41.493998,
     "end_time": "2022-09-29T17:36:51.285386",
     "exception": false,
     "start_time": "2022-09-29T17:36:09.791388",
     "status": "completed"
    },
    "tags": []
   },
   "outputs": [],
   "source": [
    "rfr_grid_search = GridSearchCV(model_rfr,\n",
    "                              parameter_rfr,\n",
    "                              verbose=0,\n",
    "                              cv=5,\n",
    "                              n_jobs=-1)\n",
    "\n",
    "rfr_grid_results = rfr_grid_search.fit(X_train,y_train)"
   ]
  },
  {
   "cell_type": "code",
   "execution_count": 25,
   "id": "a1890c0f",
   "metadata": {
    "execution": {
     "iopub.execute_input": "2022-09-29T17:36:51.310767Z",
     "iopub.status.busy": "2022-09-29T17:36:51.310388Z",
     "iopub.status.idle": "2022-09-29T17:36:51.314889Z",
     "shell.execute_reply": "2022-09-29T17:36:51.314134Z"
    },
    "papermill": {
     "duration": 0.020803,
     "end_time": "2022-09-29T17:36:51.318165",
     "exception": false,
     "start_time": "2022-09-29T17:36:51.297362",
     "status": "completed"
    },
    "tags": []
   },
   "outputs": [
    {
     "name": "stdout",
     "output_type": "stream",
     "text": [
      "{'criterion': 'squared_error', 'n_estimators': 85, 'n_jobs': -1, 'random_state': 42}\n"
     ]
    }
   ],
   "source": [
    "print(rfr_grid_results.best_params_)"
   ]
  },
  {
   "cell_type": "code",
   "execution_count": 26,
   "id": "a9ee20ac",
   "metadata": {
    "execution": {
     "iopub.execute_input": "2022-09-29T17:36:51.344826Z",
     "iopub.status.busy": "2022-09-29T17:36:51.344135Z",
     "iopub.status.idle": "2022-09-29T17:36:51.690856Z",
     "shell.execute_reply": "2022-09-29T17:36:51.689973Z"
    },
    "papermill": {
     "duration": 0.361986,
     "end_time": "2022-09-29T17:36:51.693199",
     "exception": false,
     "start_time": "2022-09-29T17:36:51.331213",
     "status": "completed"
    },
    "tags": []
   },
   "outputs": [],
   "source": [
    "model_rfr_best = RandomForestRegressor(criterion='squared_error',\n",
    "                                      n_estimators=85,\n",
    "                                      n_jobs=-1,\n",
    "                                      random_state=42)\n",
    "\n",
    "model_rfr_best.fit(X_train,y_train)\n",
    "rfr_preds = model_rfr_best.predict(X_val)\n",
    "\n",
    "rfr_mae = mean_absolute_error(y_val,rfr_preds)\n",
    "r2_rfr = r2_score(y_val,rfr_preds)"
   ]
  },
  {
   "cell_type": "code",
   "execution_count": 27,
   "id": "edaeb8ab",
   "metadata": {
    "execution": {
     "iopub.execute_input": "2022-09-29T17:36:51.719222Z",
     "iopub.status.busy": "2022-09-29T17:36:51.718399Z",
     "iopub.status.idle": "2022-09-29T17:36:51.731963Z",
     "shell.execute_reply": "2022-09-29T17:36:51.730743Z"
    },
    "papermill": {
     "duration": 0.029198,
     "end_time": "2022-09-29T17:36:51.734470",
     "exception": false,
     "start_time": "2022-09-29T17:36:51.705272",
     "status": "completed"
    },
    "tags": []
   },
   "outputs": [
    {
     "name": "stdout",
     "output_type": "stream",
     "text": [
      "RFR MAE: 0.040905645727807104\n",
      "RFR R²: 0.9100655736489764\n"
     ]
    },
    {
     "data": {
      "text/html": [
       "<div>\n",
       "<style scoped>\n",
       "    .dataframe tbody tr th:only-of-type {\n",
       "        vertical-align: middle;\n",
       "    }\n",
       "\n",
       "    .dataframe tbody tr th {\n",
       "        vertical-align: top;\n",
       "    }\n",
       "\n",
       "    .dataframe thead th {\n",
       "        text-align: right;\n",
       "    }\n",
       "</style>\n",
       "<table border=\"1\" class=\"dataframe\">\n",
       "  <thead>\n",
       "    <tr style=\"text-align: right;\">\n",
       "      <th></th>\n",
       "      <th>Actual</th>\n",
       "      <th>Predicted</th>\n",
       "    </tr>\n",
       "  </thead>\n",
       "  <tbody>\n",
       "    <tr>\n",
       "      <th>418</th>\n",
       "      <td>0.351351</td>\n",
       "      <td>0.324510</td>\n",
       "    </tr>\n",
       "    <tr>\n",
       "      <th>75</th>\n",
       "      <td>0.504505</td>\n",
       "      <td>0.469820</td>\n",
       "    </tr>\n",
       "    <tr>\n",
       "      <th>176</th>\n",
       "      <td>0.659910</td>\n",
       "      <td>0.651537</td>\n",
       "    </tr>\n",
       "    <tr>\n",
       "      <th>30</th>\n",
       "      <td>0.159910</td>\n",
       "      <td>0.213540</td>\n",
       "    </tr>\n",
       "    <tr>\n",
       "      <th>357</th>\n",
       "      <td>0.069820</td>\n",
       "      <td>0.080949</td>\n",
       "    </tr>\n",
       "    <tr>\n",
       "      <th>...</th>\n",
       "      <td>...</td>\n",
       "      <td>...</td>\n",
       "    </tr>\n",
       "    <tr>\n",
       "      <th>375</th>\n",
       "      <td>0.191441</td>\n",
       "      <td>0.228670</td>\n",
       "    </tr>\n",
       "    <tr>\n",
       "      <th>57</th>\n",
       "      <td>0.295045</td>\n",
       "      <td>0.292422</td>\n",
       "    </tr>\n",
       "    <tr>\n",
       "      <th>124</th>\n",
       "      <td>0.195946</td>\n",
       "      <td>0.254346</td>\n",
       "    </tr>\n",
       "    <tr>\n",
       "      <th>24</th>\n",
       "      <td>0.225225</td>\n",
       "      <td>0.271277</td>\n",
       "    </tr>\n",
       "    <tr>\n",
       "      <th>17</th>\n",
       "      <td>0.268018</td>\n",
       "      <td>0.299046</td>\n",
       "    </tr>\n",
       "  </tbody>\n",
       "</table>\n",
       "<p>86 rows × 2 columns</p>\n",
       "</div>"
      ],
      "text/plain": [
       "       Actual  Predicted\n",
       "418  0.351351   0.324510\n",
       "75   0.504505   0.469820\n",
       "176  0.659910   0.651537\n",
       "30   0.159910   0.213540\n",
       "357  0.069820   0.080949\n",
       "..        ...        ...\n",
       "375  0.191441   0.228670\n",
       "57   0.295045   0.292422\n",
       "124  0.195946   0.254346\n",
       "24   0.225225   0.271277\n",
       "17   0.268018   0.299046\n",
       "\n",
       "[86 rows x 2 columns]"
      ]
     },
     "execution_count": 27,
     "metadata": {},
     "output_type": "execute_result"
    }
   ],
   "source": [
    "print(f'RFR MAE: {rfr_mae}\\nRFR R²: {r2_rfr}')\n",
    "pd.DataFrame({\n",
    "    'Actual':y_val,\n",
    "    'Predicted':rfr_preds\n",
    "})"
   ]
  }
 ],
 "metadata": {
  "kernelspec": {
   "display_name": "Python 3",
   "language": "python",
   "name": "python3"
  },
  "language_info": {
   "codemirror_mode": {
    "name": "ipython",
    "version": 3
   },
   "file_extension": ".py",
   "mimetype": "text/x-python",
   "name": "python",
   "nbconvert_exporter": "python",
   "pygments_lexer": "ipython3",
   "version": "3.7.12"
  },
  "papermill": {
   "default_parameters": {},
   "duration": 266.099404,
   "end_time": "2022-09-29T17:36:54.366976",
   "environment_variables": {},
   "exception": null,
   "input_path": "__notebook__.ipynb",
   "output_path": "__notebook__.ipynb",
   "parameters": {},
   "start_time": "2022-09-29T17:32:28.267572",
   "version": "2.3.4"
  }
 },
 "nbformat": 4,
 "nbformat_minor": 5
}
